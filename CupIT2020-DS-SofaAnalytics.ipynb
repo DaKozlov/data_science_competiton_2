{
 "cells": [
  {
   "cell_type": "code",
   "execution_count": null,
   "metadata": {
    "colab": {
     "base_uri": "https://localhost:8080/",
     "height": 508
    },
    "colab_type": "code",
    "id": "7uurSgZw3BMX",
    "outputId": "444871e6-5165-4bf4-df3b-fb4ee2969517"
   },
   "outputs": [],
   "source": [
    "import numpy as np\n",
    "import pandas as pd\n",
    "from sklearn.model_selection import train_test_split\n",
    "import seaborn as sns\n",
    "from sklearn.model_selection import GridSearchCV\n",
    "import matplotlib.pyplot as plt\n",
    "from sklearn.cluster import KMeans\n",
    "from mpl_toolkits.mplot3d import Axes3D\n",
    "from matplotlib import cm\n",
    "from matplotlib.colors import LinearSegmentedColormap\n",
    "import pylab\n",
    "import tensorflow as tf\n",
    "from tensorflow import keras\n",
    "from keras import Sequential\n",
    "from keras import optimizers\n",
    "from keras.layers import Activation\n",
    "from keras.layers import Dropout, Dense, LSTM\n",
    "from keras.optimizers import Adam"
   ]
  },
  {
   "cell_type": "code",
   "execution_count": null,
   "metadata": {
    "colab": {},
    "colab_type": "code",
    "id": "-uAeRKdB3BMe"
   },
   "outputs": [],
   "source": [
    "#Download Data Frame\n",
    "data = pd.read_csv('CL_megafon_Cup IT_2020_final_data.csv', sep = ';', parse_dates = ['time_start', 'time_end'])"
   ]
  },
  {
   "cell_type": "code",
   "execution_count": null,
   "metadata": {
    "colab": {},
    "colab_type": "code",
    "id": "QCK0otjxqjvH"
   },
   "outputs": [],
   "source": [
    "#Download test Data Frame\n",
    "test = pd.read_csv('test.csv', sep = ';', parse_dates = ['time_start'])"
   ]
  },
  {
   "cell_type": "code",
   "execution_count": null,
   "metadata": {
    "colab": {},
    "colab_type": "code",
    "id": "IHJFnX8-7vP-"
   },
   "outputs": [],
   "source": [
    "predictions = test.copy()\n",
    "predictions['month_start'] = predictions.time_start.apply(lambda x: x.month)\n",
    "predictions['day_of_week_start'] = predictions.time_start.apply(lambda x: x.dayofweek+1)\n",
    "predictions['hour_start'] = predictions.time_start.apply(lambda x: x.hour)\n",
    "predictions.index = predictions['time_start']\n",
    "predictions = predictions.drop(['time_start'], axis = 1)"
   ]
  },
  {
   "cell_type": "code",
   "execution_count": null,
   "metadata": {
    "colab": {},
    "colab_type": "code",
    "id": "CrwdiHLz3BMg"
   },
   "outputs": [],
   "source": [
    "#Preparing data to work with time series\n",
    "data['month_start'] = data.time_start.apply(lambda x: x.month)\n",
    "data['day_of_week_start'] = data.time_start.apply(lambda x: x.dayofweek+1)\n",
    "data['hour_start'] = data.time_start.apply(lambda x: x.hour)\n",
    "data['gap'] = data.time_end-data.time_start\n",
    "data['gap'] = data.gap.apply(lambda x: x.seconds)\n",
    "data = data.drop(['time_end'], axis = 1)\n",
    "data = data.sort_values('time_start')"
   ]
  },
  {
   "cell_type": "code",
   "execution_count": null,
   "metadata": {
    "colab": {},
    "colab_type": "code",
    "id": "s9ZyQwWbqjvM"
   },
   "outputs": [],
   "source": [
    "test['month_start'] = test.time_start.apply(lambda x: x.month)\n",
    "test['day_of_week_start'] = test.time_start.apply(lambda x: x.dayofweek+1)\n",
    "test['hour_start'] = test.time_start.apply(lambda x: x.hour)"
   ]
  },
  {
   "cell_type": "code",
   "execution_count": null,
   "metadata": {
    "colab": {
     "base_uri": "https://localhost:8080/",
     "height": 204
    },
    "colab_type": "code",
    "id": "3fODVYQ2fmhU",
    "outputId": "63603e20-9b2e-4fd1-c40e-2cba4178775a"
   },
   "outputs": [],
   "source": [
    "#Data Frame with columns, that have useful infromation\n",
    "data.head()"
   ]
  },
  {
   "cell_type": "code",
   "execution_count": null,
   "metadata": {
    "colab": {},
    "colab_type": "code",
    "id": "ik6t9Ufxfmhx"
   },
   "outputs": [],
   "source": [
    "#New Data Frame for saving old\n",
    "newdata = data.copy()"
   ]
  },
  {
   "cell_type": "code",
   "execution_count": null,
   "metadata": {
    "colab": {},
    "colab_type": "code",
    "id": "5v7Qfv_tfmiK"
   },
   "outputs": [],
   "source": [
    "#Min and max values of all important features for normalize values\n",
    "min_place_latitude = newdata.place_latitude.min()\n",
    "max_place_latitude = newdata.place_latitude.max()\n",
    "min_place_longitude = newdata.place_longitude.min()\n",
    "max_place_longitude = newdata.place_longitude.max()\n",
    "min_m = newdata.month_start.min()\n",
    "max_m = newdata.month_start.max()\n",
    "min_d = newdata.day_of_week_start.min()\n",
    "max_d = newdata.day_of_week_start.max()\n",
    "min_h = newdata.hour_start.min()\n",
    "max_h = newdata.hour_start.max()\n",
    "min_gap = newdata.gap.min()\n",
    "max_gap = newdata.gap.max()"
   ]
  },
  {
   "cell_type": "code",
   "execution_count": null,
   "metadata": {
    "colab": {},
    "colab_type": "code",
    "id": "WKBzAFArqjvY"
   },
   "outputs": [],
   "source": [
    "#Functions of normalize values\n",
    "def scaled(x):\n",
    "    r = x\n",
    "    r[1] = (r[1]-min_place_latitude)/(max_place_latitude-min_place_latitude)\n",
    "    r[2] = (r[2]-min_place_longitude)/(max_place_longitude-min_place_longitude)\n",
    "    r[3] = (r[3]-min_m)/(max_m-min_m)\n",
    "    r[4] = (r[4]-min_d)/(max_d-min_d)\n",
    "    r[5] = (r[5]-min_h)/(max_h-min_h)\n",
    "    r[6] = (r[6]-min_gap)/(max_gap-min_gap)\n",
    "    return r\n",
    "def scaled_test(x):\n",
    "    r = x\n",
    "    r[1] = (r[1]-min_place_latitude)/(max_place_latitude-min_place_latitude)\n",
    "    r[2] = (r[2]-min_place_longitude)/(max_place_longitude-min_place_longitude)\n",
    "    r[3] = (r[3]-min_m)/(max_m-min_m)\n",
    "    r[4] = (r[4]-min_d)/(max_d-min_d)\n",
    "    r[5] = (r[5]-min_h)/(max_h-min_h)\n",
    "    return r"
   ]
  },
  {
   "cell_type": "code",
   "execution_count": null,
   "metadata": {
    "colab": {},
    "colab_type": "code",
    "id": "2vgxMTn73BM-"
   },
   "outputs": [],
   "source": [
    "#Making train data with normalize values for predicting\n",
    "train_data = newdata.apply(scaled, axis = 1)"
   ]
  },
  {
   "cell_type": "code",
   "execution_count": null,
   "metadata": {
    "colab": {},
    "colab_type": "code",
    "id": "gE2MMyTBqjvc"
   },
   "outputs": [],
   "source": [
    "test_data = test.apply(scaled_test, axis = 1)"
   ]
  },
  {
   "cell_type": "code",
   "execution_count": null,
   "metadata": {
    "colab": {},
    "colab_type": "code",
    "id": "M4mwhHkd3BM2"
   },
   "outputs": [],
   "source": [
    "#Making data for clastering location\n",
    "claster_data = train_data.groupby(['place_latitude', 'place_longitude']).agg({'gap': 'mean'})\\\n",
    ".reset_index()[['place_latitude', 'place_longitude']]\n",
    "clf = KMeans(init = 'k-means++', n_clusters=13, random_state = 241)\n",
    "clf.fit(claster_data)\n",
    "claster_data['claster'] = pd.Series(clf.labels_)"
   ]
  },
  {
   "cell_type": "code",
   "execution_count": null,
   "metadata": {
    "colab": {},
    "colab_type": "code",
    "id": "sPjYnELZfmiF"
   },
   "outputs": [],
   "source": [
    "#Making new column with labels of Area\n",
    "train_data = train_data.merge(claster_data, on = ['place_latitude', 'place_longitude'])\n",
    "train_data.index = train_data['time_start']\n",
    "train_data = train_data.drop(['time_start'], axis = 1)"
   ]
  },
  {
   "cell_type": "code",
   "execution_count": null,
   "metadata": {
    "colab": {},
    "colab_type": "code",
    "id": "fuodFWI5qjvl"
   },
   "outputs": [],
   "source": [
    "test_data['claster'] = pd.Series(clf.predict(test_data[['place_latitude', 'place_longitude']]))"
   ]
  },
  {
   "cell_type": "code",
   "execution_count": null,
   "metadata": {
    "colab": {},
    "colab_type": "code",
    "id": "TkjX6Mrtqjvo"
   },
   "outputs": [],
   "source": [
    "test_data.index = test_data['time_start']\n",
    "test_data = test_data.drop(['time_start'], axis = 1)"
   ]
  },
  {
   "cell_type": "code",
   "execution_count": null,
   "metadata": {
    "colab": {
     "base_uri": "https://localhost:8080/",
     "height": 436
    },
    "colab_type": "code",
    "id": "OSvkKaBFfmiH",
    "outputId": "775f171e-c7cd-44bb-becf-86cbf0f3b9a0"
   },
   "outputs": [],
   "source": [
    "#Our prepeared data\n",
    "train_data"
   ]
  },
  {
   "cell_type": "code",
   "execution_count": null,
   "metadata": {
    "colab": {},
    "colab_type": "code",
    "id": "urWG_aG5qjvu",
    "outputId": "8271180a-50f5-4c7b-8849-712ee57c7893"
   },
   "outputs": [],
   "source": [
    "categories = np.unique(train_data['claster'])\n",
    "colors = [plt.cm.tab10(i/float(len(categories)-1)) for i in range(len(categories))]\n",
    "plt.figure(figsize=(16, 10), dpi= 80, facecolor='w', edgecolor='k')\n",
    "for i, category in enumerate(categories):\n",
    "    plt.scatter('place_latitude', 'place_longitude', \n",
    "                data=train_data.loc[train_data.claster==category].iloc[:,:2], \n",
    "                s=20, c=colors[i], label=str(category))\n",
    "\n",
    "plt.xticks(fontsize=12); plt.yticks(fontsize=12)\n",
    "plt.title(\"Scatterplot of Area Location\", fontsize=22)\n",
    "plt.legend(fontsize=12)    \n",
    "plt.show()"
   ]
  },
  {
   "cell_type": "code",
   "execution_count": null,
   "metadata": {
    "colab": {},
    "colab_type": "code",
    "id": "sYSl13Idqjvx",
    "outputId": "44c3d56b-16ab-4d8d-8a8f-b20e1eb9b2fc"
   },
   "outputs": [],
   "source": [
    "categories = np.unique(test_data['claster'])\n",
    "colors = [plt.cm.tab10(i/float(len(categories)-1)) for i in range(len(categories))]\n",
    "plt.figure(figsize=(16, 10), dpi= 80, facecolor='w', edgecolor='k')\n",
    "for i, category in enumerate(categories):\n",
    "    plt.scatter('place_latitude', 'place_longitude', \n",
    "                data=test_data.loc[test_data.claster==category].iloc[:,:2], \n",
    "                s=20, c=colors[i], label=str(category))\n",
    "\n",
    "plt.xticks(fontsize=12); plt.yticks(fontsize=12)\n",
    "plt.title(\"Scatterplot of Area Location\", fontsize=22)\n",
    "plt.legend(fontsize=12)    \n",
    "plt.show()"
   ]
  },
  {
   "cell_type": "code",
   "execution_count": null,
   "metadata": {
    "colab": {
     "base_uri": "https://localhost:8080/",
     "height": 731
    },
    "colab_type": "code",
    "id": "-twScbsJfmiZ",
    "outputId": "756cdb77-1dff-4841-fac5-4998b1e0be21"
   },
   "outputs": [],
   "source": [
    "!pip install tensorflow==1.14"
   ]
  },
  {
   "cell_type": "code",
   "execution_count": null,
   "metadata": {
    "colab": {},
    "colab_type": "code",
    "id": "jtY1NWAxqjv4"
   },
   "outputs": [],
   "source": [
    "model = []"
   ]
  },
  {
   "cell_type": "code",
   "execution_count": null,
   "metadata": {
    "colab": {
     "base_uri": "https://localhost:8080/",
     "height": 1000
    },
    "colab_type": "code",
    "id": "tATx91GJ3BNH",
    "outputId": "6c80c3c5-9b29-41d5-d3e8-155adbc68107"
   },
   "outputs": [],
   "source": [
    "#Basic MODEL to predict time\n",
    "for i in range(13):\n",
    "    model.append('')\n",
    "    X = train_data.query('claster==@i').drop(['gap', 'claster'], axis=1)\n",
    "    y = train_data.query('claster==@i').gap\n",
    "    X_train, X_test, y_train, y_test = train_test_split(X, y, test_size = 0.2, random_state = 42)\n",
    "    X_train, y_train = X_train.values, y_train.values\n",
    "    X_test, y_test = X_test.values, y_test.values\n",
    "    X_train = X_train.reshape((X_train.shape[0], 1, X_train.shape[1]))\n",
    "    X_test = X_test.reshape((X_test.shape[0], 1, X_test.shape[1]))\n",
    "    model[i] = Sequential()\n",
    "    model[i].add(Activation('linear'))\n",
    "    model[i].add(LSTM(128, return_sequences=True,\n",
    "               input_shape=(X_train.shape[1], X_train.shape[2])))\n",
    "    model[i].add(LSTM(64, return_sequences=True))\n",
    "    model[i].add(LSTM(64, return_sequences=True))\n",
    "    model[i].add(LSTM(32))\n",
    "    model[i].add(Activation('softsign'))\n",
    "    model[i].add(Dropout(0.5))\n",
    "    model[i].add(Dense(1, activation='tanh'))\n",
    "    adam = optimizers.Adam(lr=0.0003, amsgrad=False)\n",
    "    model[i].compile(loss='mean_absolute_percentage_error', optimizer=adam)\n",
    "    history = model[i].fit(X_train, y_train, epochs=20, batch_size=8, \n",
    "                              validation_data=(X_test, y_test), verbose=1, shuffle=False)\n",
    "    plt.plot(history.history['loss'])\n",
    "    plt.plot(history.history['val_loss'])\n",
    "    plt.title('model loss')\n",
    "    plt.ylabel('loss')\n",
    "    plt.xlabel('epoch')\n",
    "    plt.legend(['train', 'test'], loc='upper right')\n",
    "    plt.show()"
   ]
  },
  {
   "cell_type": "code",
   "execution_count": null,
   "metadata": {
    "colab": {},
    "colab_type": "code",
    "id": "0IEuaVcO3BNS"
   },
   "outputs": [],
   "source": [
    "#MAPE metric function\n",
    "def mean_absolute_percentage_error(y_true, y_pred): \n",
    "    y_true, y_pred = np.array(y_true), np.array(y_pred)\n",
    "    return np.mean(np.abs((y_true - y_pred) / y_true)) * 100"
   ]
  },
  {
   "cell_type": "code",
   "execution_count": null,
   "metadata": {
    "colab": {
     "base_uri": "https://localhost:8080/",
     "height": 901
    },
    "colab_type": "code",
    "id": "oEXlpf1pqjwB",
    "outputId": "4163f7dc-6026-45c4-a01c-4630ce313811"
   },
   "outputs": [],
   "source": [
    "#Checking of score\n",
    "for i in range(13):\n",
    "    X = train_data.query('claster==@i').drop(['gap', 'claster'], axis=1)\n",
    "    y = train_data.query('claster==@i').gap\n",
    "    X_train, X_test1, y_train, y_test = train_test_split(X, y, test_size = 0.2, random_state = 42)\n",
    "    X_train, y_train = X_train.values, y_train.values\n",
    "    X_train = X_train.reshape((X_train.shape[0], 1, X_train.shape[1]))\n",
    "    y_pred = np.array([k[0] for k in model[i].predict(X_train)])\n",
    "    y_pred = y_pred*(max_gap-min_gap) + min_gap\n",
    "    y_train = y_train*(max_gap-min_gap) + min_gap\n",
    "    print(y_pred[:10]-y_train[:10])\n",
    "    print(i, mean_absolute_percentage_error(y_train, y_pred))"
   ]
  },
  {
   "cell_type": "code",
   "execution_count": null,
   "metadata": {
    "colab": {},
    "colab_type": "code",
    "id": "X5rKWEbCqjwE"
   },
   "outputs": [],
   "source": [
    "Shapes = []\n",
    "X_data = []\n",
    "for i in range(13):\n",
    "    X_data.append('')\n",
    "    X_data[i] = test_data.query('claster==@i')\n",
    "    Shapes.append(X_data[i].shape[0])"
   ]
  },
  {
   "cell_type": "code",
   "execution_count": null,
   "metadata": {
    "colab": {},
    "colab_type": "code",
    "id": "xhujUSNiqjwG"
   },
   "outputs": [],
   "source": [
    "X_test = []\n",
    "X_test.append(np.zeros((1788, 1, 5)))\n",
    "X_test.append(np.zeros((13807, 1, 5)))\n",
    "X_test.append(np.zeros((2764, 1, 5)))\n",
    "X_test.append(np.zeros((2952, 1, 5)))\n",
    "X_test.append(np.zeros((4539, 1, 5)))\n",
    "X_test.append(np.zeros((3447, 1, 5)))\n",
    "X_test.append(np.zeros((6977, 1, 5)))\n",
    "X_test.append(np.zeros((5744, 1, 5)))\n",
    "X_test.append(np.zeros((2884, 1, 5)))\n",
    "X_test.append(np.zeros((4068, 1, 5)))\n",
    "X_test.append(np.zeros((9460, 1, 5)))\n",
    "X_test.append(np.zeros((1840, 1, 5)))\n",
    "X_test.append(np.zeros((2303, 1, 5)))"
   ]
  },
  {
   "cell_type": "code",
   "execution_count": null,
   "metadata": {
    "colab": {},
    "colab_type": "code",
    "id": "8EZ-Tw70qjwI"
   },
   "outputs": [],
   "source": [
    "X_pred = []\n",
    "for i in range(13):\n",
    "    X_pred.append(test_data.query('claster==@i'))\n",
    "    X_pred[i] = X_pred[i].drop(['claster'], axis = 1).values\n",
    "    X_pred[i] = X_pred[i].reshape((X_pred[i].shape[0], 1, X_pred[i].shape[1]))"
   ]
  },
  {
   "cell_type": "code",
   "execution_count": null,
   "metadata": {
    "colab": {},
    "colab_type": "code",
    "id": "5MO60E1AqjwK"
   },
   "outputs": [],
   "source": [
    "for i in range(13):\n",
    "    for j in range(len(X_pred[i])):\n",
    "        for k in range(len(X_pred[i][j])):\n",
    "            for p in range(len(X_pred[i][j][k])):\n",
    "                X_test[i][j][k][p] = X_pred[i][j][k][p]"
   ]
  },
  {
   "cell_type": "code",
   "execution_count": null,
   "metadata": {
    "colab": {},
    "colab_type": "code",
    "id": "2ZKrE4JqqjwM"
   },
   "outputs": [],
   "source": [
    "X_pred = []\n",
    "for i in range(13):\n",
    "    X_pred.append(np.array([k[0] for k in model[i].predict(X_test[i])]))\n",
    "    X_pred[i] = X_pred[i][:Shapes[i]]"
   ]
  },
  {
   "cell_type": "code",
   "execution_count": null,
   "metadata": {
    "colab": {},
    "colab_type": "code",
    "id": "ZCDL_vJYqjwR"
   },
   "outputs": [],
   "source": [
    "for i in range(13):\n",
    "    X_pred[i] = (X_pred[i]*(max_gap-min_gap) + min_gap)/60"
   ]
  },
  {
   "cell_type": "code",
   "execution_count": null,
   "metadata": {
    "colab": {
     "base_uri": "https://localhost:8080/",
     "height": 119
    },
    "colab_type": "code",
    "id": "Bl0119iWqjwT",
    "outputId": "c5ebfdc4-998d-4bfe-acca-1768e39dbaa3"
   },
   "outputs": [],
   "source": [
    "for i in range(13):\n",
    "    X_data[i]['pred'] = X_pred[i]"
   ]
  },
  {
   "cell_type": "code",
   "execution_count": null,
   "metadata": {
    "colab": {},
    "colab_type": "code",
    "id": "GomAMicpqjwV"
   },
   "outputs": [],
   "source": [
    "pred_data_frame = pd.DataFrame(columns = ['time_start',\t'place_latitude',\t'place_longitude',\t'month_start',\t'day_of_week_start',\t'hour_start',\t'claster', 'pred'])\n",
    "for i in range(13):\n",
    "    pred_data_frame = pd.concat([pred_data_frame, X_data[i].reset_index()])"
   ]
  },
  {
   "cell_type": "code",
   "execution_count": null,
   "metadata": {
    "colab": {},
    "colab_type": "code",
    "id": "E7ncraKL-veu"
   },
   "outputs": [],
   "source": [
    "predictions = test_data.reset_index().merge(pred_data_frame, on=['time_start',\t'place_latitude',\t'place_longitude',\t'month_start',\t'day_of_week_start',\t'hour_start',\t'claster']).\\\n",
    "drop(['month_start',\t'day_of_week_start',\t'hour_start',\t'claster'],axis=1)"
   ]
  },
  {
   "cell_type": "code",
   "execution_count": null,
   "metadata": {
    "colab": {},
    "colab_type": "code",
    "id": "vIVhRRdn7Ey7"
   },
   "outputs": [],
   "source": [
    "predictions[['place_latitude',\t'place_longitude']] = test[['place_latitude',\t'place_longitude']]"
   ]
  },
  {
   "cell_type": "code",
   "execution_count": null,
   "metadata": {
    "colab": {},
    "colab_type": "code",
    "id": "EuXWGSEXMKCq"
   },
   "outputs": [],
   "source": [
    "new = test.copy()\n",
    "new = new.drop(['month_start',\t'day_of_week_start',\t'hour_start'], axis = 1)"
   ]
  },
  {
   "cell_type": "code",
   "execution_count": null,
   "metadata": {
    "colab": {},
    "colab_type": "code",
    "id": "g6N4tmR36w7Q"
   },
   "outputs": [],
   "source": [
    "new['predict'] = predictions['pred']"
   ]
  },
  {
   "cell_type": "code",
   "execution_count": null,
   "metadata": {
    "colab": {
     "base_uri": "https://localhost:8080/",
     "height": 204
    },
    "colab_type": "code",
    "id": "vEf80S6YMYav",
    "outputId": "049ca456-6966-4b64-8901-2d07d26bd3d2"
   },
   "outputs": [],
   "source": [
    "new.head()"
   ]
  },
  {
   "cell_type": "code",
   "execution_count": null,
   "metadata": {
    "colab": {},
    "colab_type": "code",
    "id": "Hkz9v_IW4lyf"
   },
   "outputs": [],
   "source": [
    "new.to_csv('CupIT2020-DS-SofaAnalyticssss.csv')"
   ]
  },
  {
   "cell_type": "code",
   "execution_count": null,
   "metadata": {
    "colab": {},
    "colab_type": "code",
    "id": "k1EKH98NNbD5"
   },
   "outputs": [],
   "source": []
  }
 ],
 "metadata": {
  "accelerator": "GPU",
  "colab": {
   "collapsed_sections": [],
   "name": "Untitled_1_4.ipynb",
   "provenance": []
  },
  "kernelspec": {
   "display_name": "Python 3",
   "language": "python",
   "name": "python3"
  },
  "language_info": {
   "codemirror_mode": {
    "name": "ipython",
    "version": 3
   },
   "file_extension": ".py",
   "mimetype": "text/x-python",
   "name": "python",
   "nbconvert_exporter": "python",
   "pygments_lexer": "ipython3",
   "version": "3.7.4"
  }
 },
 "nbformat": 4,
 "nbformat_minor": 1
}
